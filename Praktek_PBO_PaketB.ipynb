{
  "nbformat": 4,
  "nbformat_minor": 0,
  "metadata": {
    "colab": {
      "provenance": [],
      "include_colab_link": true
    },
    "kernelspec": {
      "name": "python3",
      "display_name": "Python 3"
    },
    "language_info": {
      "name": "python"
    }
  },
  "cells": [
    {
      "cell_type": "markdown",
      "metadata": {
        "id": "view-in-github",
        "colab_type": "text"
      },
      "source": [
        "<a href=\"https://colab.research.google.com/github/EkoDianPangestu/pbo-eko/blob/main/Praktek_PBO_PaketB.ipynb\" target=\"_parent\"><img src=\"https://colab.research.google.com/assets/colab-badge.svg\" alt=\"Open In Colab\"/></a>"
      ]
    },
    {
      "cell_type": "markdown",
      "source": [
        "**Sistem Manajemen Pasien Rumah Sakit**\n",
        "\n",
        "Anda adalah seorang pengembang perangkat lunak yang bekerja untuk rumah sakit. Rumah sakit ini memiliki kelas induk Pasien dengan atribut berikut:\n",
        "*   nomer rekam medis\n",
        "*   nama\n",
        "*   umur\n",
        "*   jenis kelamin\n",
        "\n",
        "Selain itu, rumah sakit ini memiliki dua jenis pasian yaitu rawat inap dan rawat jalan.\n",
        "\n",
        "Pasien rawat inap memiliki atribut tambahan nomor kamar (contoh nomer kamar bebas)\n",
        "\n",
        "Sementara pasien rawat jalan memiliki atribut tambahan frekuensi kunjungan (harian, pekanan, dsb)\n",
        "\n",
        "Manajemen rumah sakit ingin Anda membuat program Python yang memungkinkan mereka untuk mencetak informasi tentang setiap pasien, termasuk nomer rekam medis, nama, umur, jenis kelamin, serta atribut tambahan yang sesuai (nomer kamar dan frekuensi kunungan).\n",
        "\n",
        "Buatlah program yang terdiri dari class-class yang dibutuhkan dan program utama yang digunakan untuk menjalankan class-class yang telah dibuat.\n",
        "\n",
        "Selamat mengerjakan!"
      ],
      "metadata": {
        "id": "xNiqvOwe07Hh"
      }
    },
    {
      "cell_type": "code",
      "execution_count": 1,
      "metadata": {
        "id": "7mpdReMA0z6H"
      },
      "outputs": [],
      "source": [
        "class Pasien:\n",
        "    def __init__(self, nomor, nama, umur, Gender):\n",
        "        self.nomor = nomor\n",
        "        self.nama = nama\n",
        "        self.umur = umur\n",
        "        self.Gender = Gender\n",
        "\n",
        "    def info_pasien(self):\n",
        "        print(f\"Nomor Rekam Medis: {self.nomor}\")\n",
        "        print(f\"Nama: {self.nama}\")\n",
        "        print(f\"Umur: {self.umur}\")\n",
        "        print(f\"Jenis Kelamin: {self.Gender}\")"
      ]
    },
    {
      "cell_type": "code",
      "source": [
        "class PasienRawatInap(Pasien):\n",
        "    def __init__(self, nomor, nama, umur, Gender, nomor_kamar):\n",
        "        super().__init__(nomor, nama, umur, Gender)\n",
        "        self.nomor_kamar = nomor_kamar\n",
        "\n",
        "    def info_pasien(self):\n",
        "        super().info_pasien()\n",
        "        print(f\"Nomor Kamar: {self.nomor_kamar}\")"
      ],
      "metadata": {
        "id": "tuongXEV2zlx"
      },
      "execution_count": 2,
      "outputs": []
    },
    {
      "cell_type": "code",
      "source": [
        "class PasienRawatJalan(Pasien):\n",
        "    def __init__(self, nomor_rekam_medis, nama, umur, jenis_kelamin, frekuensi_kunjungan):\n",
        "        super().__init__(nomor_rekam_medis, nama, umur, jenis_kelamin)\n",
        "        self.frekuensi_kunjungan = frekuensi_kunjungan\n",
        "\n",
        "    def info_pasien(self):\n",
        "        super().info_pasien()\n",
        "        print(f\"Frekuensi Kunjungan: {self.frekuensi_kunjungan}\")"
      ],
      "metadata": {
        "id": "E45LQTxC20qY"
      },
      "execution_count": 3,
      "outputs": []
    },
    {
      "cell_type": "code",
      "source": [
        "if __name__ == \"__main__\":\n",
        "    # Membuat objek PasienRawatInap dan PasienRawatJalan\n",
        "    pasien_inap = PasienRawatInap(\"12345\", \"John Doe\", 45, \"Laki-laki\", \"101\")\n",
        "    pasien_jalan = PasienRawatJalan(\"67890\", \"Jane Smith\", 30, \"Perempuan\", \"Pekanan\")\n",
        "\n",
        "    # Menampilkan informasi pasien\n",
        "    print(\"Informasi Pasien Rawat Inap:\")\n",
        "    pasien_inap.info_pasien()\n",
        "    print(\"\\nInformasi Pasien Rawat Jalan:\")\n",
        "    pasien_jalan.info_pasien()"
      ],
      "metadata": {
        "id": "eA5Vo5a1211e",
        "outputId": "ba0b0ee3-7f35-48ad-e9f2-270c27196a00",
        "colab": {
          "base_uri": "https://localhost:8080/"
        }
      },
      "execution_count": 4,
      "outputs": [
        {
          "output_type": "stream",
          "name": "stdout",
          "text": [
            "Informasi Pasien Rawat Inap:\n",
            "Nomor Rekam Medis: 12345\n",
            "Nama: John Doe\n",
            "Umur: 45\n",
            "Jenis Kelamin: Laki-laki\n",
            "Nomor Kamar: 101\n",
            "\n",
            "Informasi Pasien Rawat Jalan:\n",
            "Nomor Rekam Medis: 67890\n",
            "Nama: Jane Smith\n",
            "Umur: 30\n",
            "Jenis Kelamin: Perempuan\n",
            "Frekuensi Kunjungan: Pekanan\n"
          ]
        }
      ]
    },
    {
      "cell_type": "markdown",
      "source": [
        "## Penjelasan\n",
        "Class **Atribut** adalah class induk dengan **Pasien** nomer rekam media, nama, umur, dan jenis kelamin. Fungsi **Pasien Rawat Jalan** dalam kelas ini mencetak informasi umum tentang pasien.\n",
        "\n",
        "Class **Pasien** mewarisi dari class **pasien rawat inap** dan memiliki ***Atribut*** tambahan nomer kamar. Fungsi **Pasien** dalam class ini memanggil fungsi informasi dari class ***Pasien*** dan mencetak informasi tambahan tentang pasien rawat inap, yaitu **Pasien Rawat Jalan**\n",
        "\n",
        "Class **Pasien** juga mewarisi dari ***Class Pasien*** dan memiliki **Atribut** **Tambahan** frekuensi kunjungan. Fungsi informasi dalam class ini juga memanggil **Fungsi**  deskripsi dari class induk dan mencetak informasi tambahan tentang pasien rawat jalan, yaitu **Nomer kamar**"
      ],
      "metadata": {
        "id": "f3ISiDJB24Ve"
      }
    }
  ]
}