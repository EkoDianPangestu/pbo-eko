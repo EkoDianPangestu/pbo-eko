{
  "nbformat": 4,
  "nbformat_minor": 0,
  "metadata": {
    "colab": {
      "provenance": [],
      "include_colab_link": true
    },
    "kernelspec": {
      "name": "python3",
      "display_name": "Python 3"
    },
    "language_info": {
      "name": "python"
    }
  },
  "cells": [
    {
      "cell_type": "markdown",
      "metadata": {
        "id": "view-in-github",
        "colab_type": "text"
      },
      "source": [
        "<a href=\"https://colab.research.google.com/github/EkoDianPangestu/pbo-eko/blob/main/Tugas_Overloading_2.ipynb\" target=\"_parent\"><img src=\"https://colab.research.google.com/assets/colab-badge.svg\" alt=\"Open In Colab\"/></a>"
      ]
    },
    {
      "cell_type": "code",
      "execution_count": 9,
      "metadata": {
        "id": "5zCytCeM1uD4"
      },
      "outputs": [],
      "source": [
        "#class Nama\n",
        "class Nama():\n",
        "\n",
        "#Buat fungsi yang digunakan untuk mengabungkan nama dengan ketentuan nama depan, nama tengah, nama akhir, dan seterusnya dianggap 1 (satu) parameter\n",
        "  def GabungNama(self, nama_awal = \"\",nama_tengah = \"\",nama_akhir = \"\"):\n",
        "    print(nama_awal + nama_tengah + nama_akhir)"
      ]
    },
    {
      "cell_type": "code",
      "source": [
        "#Buat main program\n",
        "Coba = Nama()\n",
        "#Panggil fungsi untuk membuat nama lengkap 4 nama teman kalian\n",
        "Coba.GabungNama(\"Eko \",\"Dian \",\"Pangestu\")\n",
        "Coba.GabungNama(\"Bryan \",\"Habibi \",\"Achmad\")\n",
        "Coba.GabungNama(\"Adeila \",\"Fajar\")\n",
        "Coba.GabungNama(\"Adeila \")"
      ],
      "metadata": {
        "id": "liQBcJWZ12MN",
        "colab": {
          "base_uri": "https://localhost:8080/"
        },
        "outputId": "1a1e33ce-affd-4fc6-e23d-aa140bb83801"
      },
      "execution_count": 11,
      "outputs": [
        {
          "output_type": "stream",
          "name": "stdout",
          "text": [
            "Eko Dian Pangestu\n",
            "Bryan Habibi Achmad\n",
            "Adeila Fajar\n",
            "Adeila \n"
          ]
        }
      ]
    },
    {
      "cell_type": "code",
      "source": [
        "Tulisakan kesimpulan dari materi Overloading menurut pemahaman anda!\n",
        "konsep dalam pemrograman di mana kita dapat menggunakan nama fungsi yang sama untuk beberapa fungsi dengan parameter yang berbeda"
      ],
      "metadata": {
        "id": "xwFmppIG3JGE"
      },
      "execution_count": null,
      "outputs": []
    }
  ]
}