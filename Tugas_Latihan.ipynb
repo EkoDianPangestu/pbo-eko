{
  "nbformat": 4,
  "nbformat_minor": 0,
  "metadata": {
    "colab": {
      "provenance": [],
      "include_colab_link": true
    },
    "kernelspec": {
      "name": "python3",
      "display_name": "Python 3"
    },
    "language_info": {
      "name": "python"
    }
  },
  "cells": [
    {
      "cell_type": "markdown",
      "metadata": {
        "id": "view-in-github",
        "colab_type": "text"
      },
      "source": [
        "<a href=\"https://colab.research.google.com/github/EkoDianPangestu/pbo-eko/blob/main/Tugas_Latihan.ipynb\" target=\"_parent\"><img src=\"https://colab.research.google.com/assets/colab-badge.svg\" alt=\"Open In Colab\"/></a>"
      ]
    },
    {
      "cell_type": "markdown",
      "source": [
        "Sebuah start-up GoPay merupakan perusahaan vintage yang menjadi alat pembayaran aplikasi marketplace dan lainnya. Anda seorang programmer yang ditugaskan untuk membuat aplikasi GoPay yang memiliki sebuah class bernama AkunGopay, yang memiliki atribut no_hp, nama dan saldo, dimana semua atribut bersifat private, demi keamanan.\n",
        "\n",
        "\n",
        "Pengguna bisa mendaftar akun GoPay dengan no_hp dan nama saja, namun juga bisa mendaftar dengan no_hp, nama dan saldo. Jika mendaftar dengan no_hp dan nama saja maka saldo otomatis bernilai 0.\n",
        "\n",
        "\n",
        "Class AkunGopay harus menyediakan fungsi yang dapat diakses oleh Marketplace untuk melakukan transaksi, yaitu :\n",
        "\n",
        "1.   topUp(), yang digunakan untuk menambahkan saldo\n",
        "2.   bayarTransaksi(), yang mengurangi saldo ketika melakukan transaksi\n",
        "3.   getSaldo(), untuk mengetahui jumlah saldo\n",
        "\n",
        "\n",
        "\n",
        "Teman Anda adalah seorang programer yang bekerja di sebuah start-up terkemuka Tokopedia yang bekerjasama dengan start-up keuangan GoPay. Anda ditugaskan membuat apikasi yang memiliki class AkunToped, dan memiliki atribut nama dan nomer_hp.\n",
        "\n",
        "Class AkunToped harus menyediakan fungsi yang untuk melakukan transaksi, yaitu:\n",
        "\n",
        "1. transaksi(), yang digunakan untuk mengurangi saldo Gopay dengan paramater nominal transaksi.\n",
        "2. getSaldo(), untuk mengetahui jumlah saldo Gopay.\n",
        "\n"
      ],
      "metadata": {
        "id": "NOQKwrfHB4pv"
      }
    },
    {
      "cell_type": "code",
      "execution_count": 4,
      "metadata": {
        "id": "peDTMz-5kxlh"
      },
      "outputs": [],
      "source": [
        "#Desain Class\n",
        "class AkunGopay:\n",
        "    def __init__(self, no_hp, nama, saldo=0):\n",
        "        self.__no__hp = no_hp\n",
        "        self.__nama = nama\n",
        "        self.__saldo = saldo\n",
        "\n",
        "    def topUp(self, jumlah):\n",
        "        self.__saldo += jumlah\n",
        "        print(\"top up berhasil. saldo anda gopay sekarang: \", self.__saldo)\n",
        "\n",
        "    def bayarTransaksi(self, jumlah):\n",
        "        if jumlah <= self.__saldo:\n",
        "             self.__saldo -= jumlah\n",
        "             print(\"transaksi berhasil. saldo anda gopay sekarang: \", self.__saldo)\n",
        "        else:\n",
        "            print(\"transaksi gagal. saldo tidak mencukupi.\")\n",
        "\n",
        "    def getsaldo(self):\n",
        "        print(\"saldo gopay anda saat ini: \", self.__saldo)\n",
        "\n",
        "class AkunToped:\n",
        "    def __init__(self, nama, nomer_hp):\n",
        "        self.nama = nama\n",
        "        self.nomer_hp = nomer_hp\n",
        "        self.saldo = 0\n",
        "\n",
        "    def transaksi(self, nominal):\n",
        "        if nominal > self.saldo:\n",
        "            print(\"transaksi ke akun toped gagal.\")\n",
        "        else:\n",
        "             self.saldo -= nominal\n",
        "             print(\"transaksi berhasil. saldo toped anda sekarang: \", self.saldo)\n",
        "\n",
        "    def getsaldo(self):\n",
        "        print(\"saldo topedf anda saat ini: \", self.saldo)"
      ]
    },
    {
      "cell_type": "code",
      "source": [
        "#Main Program\n",
        "# membuat objek akungopay\n",
        "akunGopay1 = AkunGopay(\"02235181656\", \"Law\", 1000000)\n",
        "akunToped = AkunToped(\"torao\", \"085234337587\")\n",
        "\n",
        "akunGopay1.getsaldo()\n",
        "akunGopay1.topUp(30000)\n",
        "akunGopay1.bayarTransaksi(20000)\n",
        "print('')\n",
        "\n",
        "akunToped.getsaldo()\n",
        "akunToped.transaksi(50000)\n",
        "akunToped.getsaldo()\n",
        "akunToped.transaksi(100000)"
      ],
      "metadata": {
        "id": "eitzekkYkycQ",
        "outputId": "f94b6e75-d4d4-41aa-e76d-983ae947c389",
        "colab": {
          "base_uri": "https://localhost:8080/"
        }
      },
      "execution_count": 5,
      "outputs": [
        {
          "output_type": "stream",
          "name": "stdout",
          "text": [
            "saldo gopay anda saat ini:  1000000\n",
            "top up berhasil. saldo anda gopay sekarang:  1010000\n",
            "transaksi berhasil. saldo anda gopay sekarang:  990000\n",
            "\n",
            "saldo topedf anda saat ini:  0\n",
            "transaksi ke akun toped gagal.\n",
            "saldo topedf anda saat ini:  0\n",
            "transaksi ke akun toped gagal.\n"
          ]
        }
      ]
    }
  ]
}