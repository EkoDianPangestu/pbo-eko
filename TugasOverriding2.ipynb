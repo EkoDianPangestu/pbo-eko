{
  "nbformat": 4,
  "nbformat_minor": 0,
  "metadata": {
    "colab": {
      "provenance": [],
      "include_colab_link": true
    },
    "kernelspec": {
      "name": "python3",
      "display_name": "Python 3"
    },
    "language_info": {
      "name": "python"
    }
  },
  "cells": [
    {
      "cell_type": "markdown",
      "metadata": {
        "id": "view-in-github",
        "colab_type": "text"
      },
      "source": [
        "<a href=\"https://colab.research.google.com/github/EkoDianPangestu/pbo-eko/blob/main/TugasOverriding2.ipynb\" target=\"_parent\"><img src=\"https://colab.research.google.com/assets/colab-badge.svg\" alt=\"Open In Colab\"/></a>"
      ]
    },
    {
      "cell_type": "markdown",
      "source": [
        "Anda bekerja sebagai programmer di sebuah supermarket besar. Manajemen supermarket ingin Anda mengembangkan program Python untuk mengelola berbagai jenis produk yang mereka jual di toko mereka. Mereka memiliki kelas dasar **Produk** dengan atribut berikut:\n",
        "\n",
        "*   kode_barang (kode unik produk)\n",
        "*   nama (nama produk)\n",
        "*   harga (harga produk)\n",
        "\n",
        "Selain itu, mereka memiliki dua jenis produk spesifik: **ProdukMakanan** dan **ProdukElektronik**. Produk makanan memiliki atribut tambahan:\n",
        "\n",
        "*   tanggal_kadaluarsa (tanggal kadaluarsa makanan)\n",
        "\n",
        "Sementara Produk elektronik memiliki atribut tambahan:\n",
        "\n",
        "*   garansi (lama garansi dalam bulan)\n",
        "\n",
        "Manajemen supermarket ingin Anda membuat program Python yang memungkinkan mereka untuk mencetak informasi tentang setiap produk, termasuk kode barang, nama, harga, serta atribut tambahan yang sesuai (tanggal kadaluarsa atau lama garansi).\n",
        "\n",
        "Tugas Anda adalah:\n",
        "\n",
        "\n",
        "1.   Membuat kelas Produk dengan atribut kode_barang, nama, dan harga, serta metode deskripsi yang mencetak informasi tentang produk tersebut.\n",
        "2.   Membuat kelas ProdukMakanan yang mewarisi dari kelas Produk dan memiliki atribut tambahan tanggal_kadaluarsa, serta mengimplementasikan metode deskripsi untuk mencetak informasi tentang produk makanan.\n",
        "1.   Membuat kelas ProdukElektronik yang juga mewarisi dari kelas Produk dan memiliki atribut tambahan garansi, serta mengimplementasikan metode deskripsi untuk mencetak informasi tentang produk elektronik.\n",
        "\n",
        "Program Anda harus mendemonstrasikan penggunaan konsep **overriding** dalam Python dalam konteks produk di supermarket.\n",
        "\n",
        "Selamat mengerjakan!\n",
        "\n",
        "\n",
        "\n",
        "\n",
        "\n"
      ],
      "metadata": {
        "id": "Yo0ulCyP2WPG"
      }
    },
    {
      "cell_type": "code",
      "execution_count": 1,
      "metadata": {
        "id": "tG1-g1OW2KSu"
      },
      "outputs": [],
      "source": [
        "class Produk:\n",
        "  def __init__(self, kode, nama, merk, harga):\n",
        "    self.kode = kode\n",
        "    self.nama = Nama\n",
        "    self.merk = Merk\n",
        "    self.harga = Harga\n",
        "\n",
        "  def deskripsi(self):\n",
        "    print(\" Kode barang : \", self.kode, \", Nama Barang : \", self.Nama, \", Nama Merk: \", self.Merk, \", Harga Barang : Rp.\", self.Harga,)"
      ]
    },
    {
      "cell_type": "code",
      "source": [
        "class ProdukMakanan (Produk):\n",
        "  def __init__(self, kode, nama, merk, harga, expired):\n",
        "    super().__init__(kode, nama, merk, harga)\n",
        "    self.expired = expired\n",
        "\n",
        "  def deskripsi(self):\n",
        "    super().deskripsi()\n",
        "    print(\"Expired pada: \", self.expired)"
      ],
      "metadata": {
        "id": "oy32Lm4m39l0"
      },
      "execution_count": 2,
      "outputs": []
    },
    {
      "cell_type": "code",
      "source": [
        "class ProdukElektronik (Produk):\n",
        "  def __init__(self, kode, nama, merk, harga, garansi):\n",
        "    super().__init__(kode, nama, merk, harga)\n",
        "    self.garansi = garansi\n",
        "\n",
        "  def deskripsi(self, periode= 'bulan'):\n",
        "    super().deskripsi()\n",
        "    print(\"Garansi selama\", self.garansi, periode)"
      ],
      "metadata": {
        "id": "wEgEGwxm4A1y"
      },
      "execution_count": null,
      "outputs": []
    },
    {
      "cell_type": "code",
      "source": [
        "# Contoh penggunaan masing-masing jenis class produk\n",
        "# produk makanan di sini\n",
        "bakso = ProdukMakanan (1001, 'Bakso', 'Bakso pinggir jalan', 1000, '24 september 2023')\n",
        "# produk elektroni di sini\n",
        "labtop = ProdukElektronik (1002, 'labtop', 'Asus',1000000, 6)\n",
        "\n",
        "# Deskripsi produk makanan\n",
        "print(\"Deskripsi Produk Makanan:\")\n",
        "# lengkapi\n",
        "Makaroni.deskripsi()\n",
        "# Deskripsi produk elektronik\n",
        "print(\"Deskripsi Produk Elektronik:\")\n",
        "# lengkapi\n",
        "Televisi.deskripsi()\n"
      ],
      "metadata": {
        "id": "noeSP_dw4F4c"
      },
      "execution_count": null,
      "outputs": []
    }
  ]
}