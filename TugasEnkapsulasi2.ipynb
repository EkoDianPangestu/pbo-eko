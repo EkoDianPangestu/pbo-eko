{
  "nbformat": 4,
  "nbformat_minor": 0,
  "metadata": {
    "colab": {
      "provenance": [],
      "include_colab_link": true
    },
    "kernelspec": {
      "name": "python3",
      "display_name": "Python 3"
    },
    "language_info": {
      "name": "python"
    }
  },
  "cells": [
    {
      "cell_type": "markdown",
      "metadata": {
        "id": "view-in-github",
        "colab_type": "text"
      },
      "source": [
        "<a href=\"https://colab.research.google.com/github/EkoDianPangestu/pbo-eko/blob/main/TugasEnkapsulasi2.ipynb\" target=\"_parent\"><img src=\"https://colab.research.google.com/assets/colab-badge.svg\" alt=\"Open In Colab\"/></a>"
      ]
    },
    {
      "cell_type": "markdown",
      "source": [
        "Buatlah kelas RekeningBank dengan atribut berikut:\n",
        "\n",
        "*   nama_pemilik (private)\n",
        "*   saldo (private)\n",
        "\n",
        "Berikan metode berikut:\n",
        "\n",
        "*   __init__: Menginisialisasi saldo dan nama_pemilik.\n",
        "*   set_saldo: Mengubah nilai saldo.\n",
        "*   get_saldo: Mengembalikan nilai saldo.\n",
        "*   set_nama_pemilik: Mengubah nama pemilik.\n",
        "*   get_nama_pemilik: Mengembalikan nama pemilik.\n",
        "\n",
        "\n",
        "\n",
        "\n",
        "\n",
        "\n",
        "\n",
        "\n"
      ],
      "metadata": {
        "id": "PktiI90eS6Ee"
      }
    },
    {
      "cell_type": "code",
      "source": [
        "# Desain class\n",
        "class Rekening_Bank():\n",
        "  def __init__(self,Pemilik,saldo):\n",
        "    self.__Pemilik = Pemilik\n",
        "    self.__saldo = saldo\n",
        "\n",
        "  def get_Pemilik(self):\n",
        "    return self.__Pemilik\n",
        "\n",
        "  def set_Pemilik(self,Pemilik):\n",
        "    self.__Pemilik = Pemilik\n",
        "\n",
        "  def get_saldo(self):\n",
        "    return self.__saldo\n",
        "\n",
        "  def set_saldo(self,saldo):\n",
        "    if saldo > 75000000:\n",
        "      self.__saldo = 82000000\n",
        "    elif saldo < 62000000:\n",
        "      self.__saldo = 1500000\n",
        "    else:\n",
        "      self.__saldo = saldo"
      ],
      "metadata": {
        "id": "Pyj-mkyciVfk"
      },
      "execution_count": 1,
      "outputs": []
    },
    {
      "cell_type": "code",
      "source": [
        "#Program utama untuk mendemonstrasikan class RekeningBank\n",
        "BNI = Rekening_Bank('Muhammad Sumbul',100000000)\n",
        "#yang menunjukkan penggunaan semua fungsi yang ada\n",
        "print(BNI.get_Pemilik())\n",
        "print(BNI.get_saldo())\n",
        "\n",
        "#print sebelum di set\n",
        "print(f'Nama pemilik Rekening Bank adalah {BNI.get_Pemilik()} dan mempunyai saldo sebesar {BNI.get_saldo()}')\n",
        "\n",
        "#setelah di set\n",
        "BNI.set_Pemilik( \"Eko\" )\n",
        "BNI.set_saldo(870000000)\n",
        "\n",
        "#print sesudah di set\n",
        "print(f'Nama pemilik Rekening Bank adalah {BNI.get_Pemilik()} dan mempunyai saldo sebesar {BNI.get_saldo()}')"
      ],
      "metadata": {
        "id": "aOwy6rfdSga2",
        "outputId": "b5a40ff2-3946-44c2-f0c2-78ae587f6630",
        "colab": {
          "base_uri": "https://localhost:8080/"
        }
      },
      "execution_count": 3,
      "outputs": [
        {
          "output_type": "stream",
          "name": "stdout",
          "text": [
            "Muhammad Sumbul\n",
            "100000000\n",
            "Nama pemilik Rekening Bank adalah Muhammad Sumbul dan mempunyai saldo sebesar 100000000\n",
            "Nama pemilik Rekening Bank adalah Eko dan mempunyai saldo sebesar 82000000\n"
          ]
        }
      ]
    }
  ]
}